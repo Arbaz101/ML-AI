{
  "nbformat": 4,
  "nbformat_minor": 0,
  "metadata": {
    "colab": {
      "name": "Python Screening Assignment.ipynb",
      "provenance": [],
      "authorship_tag": "ABX9TyMpeQndoXP6IcxcFoOmEbu2",
      "include_colab_link": true
    },
    "kernelspec": {
      "name": "python3",
      "display_name": "Python 3"
    },
    "language_info": {
      "name": "python"
    }
  },
  "cells": [
    {
      "cell_type": "markdown",
      "metadata": {
        "id": "view-in-github",
        "colab_type": "text"
      },
      "source": [
        "<a href=\"https://colab.research.google.com/github/Arbaz101/ML-AI/blob/master/Python_Screening_Assignment.ipynb\" target=\"_parent\"><img src=\"https://colab.research.google.com/assets/colab-badge.svg\" alt=\"Open In Colab\"/></a>"
      ]
    },
    {
      "cell_type": "markdown",
      "source": [
        "# 1. Create a function in python to read the text file and replace specific content of the file.\n",
        "\n"
      ],
      "metadata": {
        "id": "nDERFcQym_Eo"
      }
    },
    {
      "cell_type": "code",
      "execution_count": null,
      "metadata": {
        "id": "ZL1oNLTem5Ae"
      },
      "outputs": [],
      "source": [
        "def replace(filepath, original, replacement):\n",
        "  try:\n",
        "    #open file in read mode to read the contents\n",
        "    file_read = open(filepath, 'r', newline='\\n')\n",
        "    content_list = file_read.readlines()\n",
        "    file_read.close()\n",
        "\n",
        "    #open file in write mode to overwrite the contents\n",
        "    file_write = open(filepath, 'w')\n",
        "\n",
        "    #processing the lines\n",
        "    updated_line = []\n",
        "    for lines in content_list:\n",
        "      line = lines.split()\n",
        "      for i,word in enumerate(line):\n",
        "        if word == original:\n",
        "          #if we find the original word then replacing it with replacement word\n",
        "          line[i] = replacement\n",
        "      \n",
        "      #Join the words to create the sentence\n",
        "      updated_line.append(' '.join(line))\n",
        "      \n",
        "    #join all the sentences\n",
        "    updated_lines = '\\n'.join(updated_line)\n",
        "    try:\n",
        "      #overwrite the contents of the file with updated contents\n",
        "      file_write.writelines(updated_lines)\n",
        "      print('File is successfully updated.')\n",
        "    except Exception as e:\n",
        "      print(e)\n",
        "    \n",
        "\n",
        "  except Exception as e:\n",
        "    print(e)"
      ]
    },
    {
      "cell_type": "code",
      "source": [
        "replace('example.txt', 'screening', 'placement')"
      ],
      "metadata": {
        "colab": {
          "base_uri": "https://localhost:8080/"
        },
        "id": "7HTOq3ZCnKUh",
        "outputId": "740e477a-c69e-4c13-92aa-90dfefc17150"
      },
      "execution_count": null,
      "outputs": [
        {
          "output_type": "stream",
          "name": "stdout",
          "text": [
            "File is successfully updated.\n"
          ]
        }
      ]
    },
    {
      "cell_type": "markdown",
      "source": [
        "# 2. Demonstrate use of abstract class, multiple inheritance and decorator in python using examples."
      ],
      "metadata": {
        "id": "zLvTCIETn2Sn"
      }
    },
    {
      "cell_type": "markdown",
      "source": [
        "## 2.1. Multiple Inheritance"
      ],
      "metadata": {
        "id": "2DvgKWIln3G6"
      }
    },
    {
      "cell_type": "code",
      "source": [
        "class read_file:\n",
        "  content_list =  []\n",
        "  def read_content(self, filepath):\n",
        "    file_read = open(filepath, 'r', newline='\\n')\n",
        "    self.content_list = file_read.readlines()\n",
        "    file_read.close()\n",
        "    print('file is successfully read')\n",
        "\n",
        "class write_file:\n",
        "\n",
        "  def write_content(self, filepath, updated_content):\n",
        "    file_write = open(filepath, 'w')\n",
        "    file_write.writelines(updated_content)\n",
        "    print('File is successfully updated.')\n",
        "\n",
        "\n",
        "class replace_content(read_file, write_file):\n",
        "\n",
        "  def replace(self, filepath, original, replacement):\n",
        "    super().read_content(filepath)\n",
        "    updated_line = []\n",
        "    for lines in self.content_list:\n",
        "      line = lines.split()\n",
        "      for i,word in enumerate(line):\n",
        "        if word == original:\n",
        "          #if we find the origina word then replacing it with replacement word\n",
        "          line[i] = replacement\n",
        "      \n",
        "      #Join the words to create the sentence\n",
        "      updated_line.append(' '.join(line))\n",
        "      \n",
        "    #join all the sentences\n",
        "    updated_lines = '\\n'.join(updated_line)\n",
        "\n",
        "    #Write the updated content back into the file\n",
        "    super().write_content(filepath, updated_lines)\n",
        "\n"
      ],
      "metadata": {
        "id": "H0NFY2B_n6Vz"
      },
      "execution_count": null,
      "outputs": []
    },
    {
      "cell_type": "code",
      "source": [
        "f = replace_content()\n",
        "f.replace('example.txt', 'placement', 'screening')"
      ],
      "metadata": {
        "colab": {
          "base_uri": "https://localhost:8080/"
        },
        "id": "ZdJVg2d-oFs0",
        "outputId": "135f0335-d051-4c90-bcd7-f1dc651c1fa9"
      },
      "execution_count": null,
      "outputs": [
        {
          "output_type": "stream",
          "name": "stdout",
          "text": [
            "file is successfully read\n",
            "File is successfully updated.\n"
          ]
        }
      ]
    },
    {
      "cell_type": "markdown",
      "source": [
        "## 2.2. Abstract Class and Decorator example"
      ],
      "metadata": {
        "id": "a8I3dK3tohMU"
      }
    },
    {
      "cell_type": "code",
      "source": [
        "#Importing Abstract Base Class library to declare an Abstract class and method\n",
        "import abc  \n",
        "from abc import ABC, abstractmethod"
      ],
      "metadata": {
        "id": "s0SpidZcoejY"
      },
      "execution_count": null,
      "outputs": []
    },
    {
      "cell_type": "code",
      "source": [
        "class bank(ABC):\n",
        "\n",
        "  @abstractmethod   #declaring the Loan Interest method as Abstract method\n",
        "  #Abstract method\n",
        "  def loan_interest(self, amount):\n",
        "    pass\n",
        "\n",
        "class sbi(bank):\n",
        "  interest_rate_percent = 7\n",
        "  def loan_interest(self, amount):\n",
        "    return ('The Interest on amount {} Rs will be {} Rs'.format(str(float(amount)),\n",
        "                                                                str(amount*self.interest_rate_percent/100)))\n",
        "\n",
        "class hdfc(bank):\n",
        "  interest_rate_percent = 6.5\n",
        "  def loan_interest(self, amount):\n",
        "    return ('The Interest on amount {} Rs will be {} Rs'.format(str(float(amount)),\n",
        "                                                                str(amount*self.interest_rate_percent/100)))\n",
        "\n",
        "class icici(bank):\n",
        "  interest_rate_percent = 6.9\n",
        "  def loan_interest(self, amount):\n",
        "    return ('The Interest on amount {} Rs will be {} Rs'.format(str(float(amount)),\n",
        "                                                                str(amount*self.interest_rate_percent/100)))\n"
      ],
      "metadata": {
        "id": "b5fT0azlousq"
      },
      "execution_count": null,
      "outputs": []
    },
    {
      "cell_type": "code",
      "source": [
        "bank_name = sbi()\n",
        "bank_name.loan_interest(1000)"
      ],
      "metadata": {
        "colab": {
          "base_uri": "https://localhost:8080/",
          "height": 36
        },
        "id": "2_Zm7t-_o0JZ",
        "outputId": "53dcb6ee-2720-4825-9275-765957345107"
      },
      "execution_count": null,
      "outputs": [
        {
          "output_type": "execute_result",
          "data": {
            "text/plain": [
              "'The Interest on amount 1000.0 Rs will be 70.0 Rs'"
            ],
            "application/vnd.google.colaboratory.intrinsic+json": {
              "type": "string"
            }
          },
          "metadata": {},
          "execution_count": 12
        }
      ]
    },
    {
      "cell_type": "code",
      "source": [
        "bank_name = hdfc()\n",
        "bank_name.loan_interest(1000)"
      ],
      "metadata": {
        "colab": {
          "base_uri": "https://localhost:8080/",
          "height": 36
        },
        "id": "pzn0zkzSo0wk",
        "outputId": "f7b719d5-2cc8-48f4-d5e5-21a8a95a1ee8"
      },
      "execution_count": null,
      "outputs": [
        {
          "output_type": "execute_result",
          "data": {
            "text/plain": [
              "'The Interest on amount 1000.0 Rs will be 65.0 Rs'"
            ],
            "application/vnd.google.colaboratory.intrinsic+json": {
              "type": "string"
            }
          },
          "metadata": {},
          "execution_count": 13
        }
      ]
    },
    {
      "cell_type": "code",
      "source": [
        "bank_name = icici()\n",
        "bank_name.loan_interest(1000)"
      ],
      "metadata": {
        "colab": {
          "base_uri": "https://localhost:8080/",
          "height": 36
        },
        "id": "tuxMGUi7o0sj",
        "outputId": "5d90907c-ac97-429e-9231-0b6cec80561f"
      },
      "execution_count": null,
      "outputs": [
        {
          "output_type": "execute_result",
          "data": {
            "text/plain": [
              "'The Interest on amount 1000.0 Rs will be 69.0 Rs'"
            ],
            "application/vnd.google.colaboratory.intrinsic+json": {
              "type": "string"
            }
          },
          "metadata": {},
          "execution_count": 14
        }
      ]
    }
  ]
}